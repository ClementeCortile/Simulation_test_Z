{
 "cells": [
  {
   "cell_type": "code",
   "execution_count": 1,
   "metadata": {},
   "outputs": [],
   "source": [
    "#Headers, libraries\n",
    "\n",
    "import random\n",
    "import numpy as np\n",
    "import matplotlib.mlab as mlab\n",
    "import matplotlib.pyplot as plt"
   ]
  },
  {
   "cell_type": "code",
   "execution_count": null,
   "metadata": {},
   "outputs": [],
   "source": []
  },
  {
   "cell_type": "code",
   "execution_count": 69,
   "metadata": {},
   "outputs": [],
   "source": [
    "def get_primes(n):\n",
    "    numbers = set(range(n, 1, -1))\n",
    "    primes = []\n",
    "    while numbers:\n",
    "        p = numbers.pop()\n",
    "        primes.append(p)\n",
    "        numbers.difference_update(set(range(p*2, n+1, p)))\n",
    "    return primes"
   ]
  },
  {
   "cell_type": "code",
   "execution_count": 113,
   "metadata": {},
   "outputs": [],
   "source": [
    "def test_prime(n):\n",
    "    prime_num = get_primes(10)\n",
    "    n = 10\n",
    "    pop_l = []\n",
    "\n",
    "    for x in range(n):\n",
    "        for j in prime_num:\n",
    "            if (x == j):\n",
    "                y = random.randint(1,j)\n",
    "                pop_l.append(abs(y-j))\n",
    "            else:\n",
    "                pop_l.append(random.randint(1,100))\n",
    "\n",
    "    print(\"Test_est done\")\n",
    "    return (pop_l)"
   ]
  },
  {
   "cell_type": "code",
   "execution_count": null,
   "metadata": {},
   "outputs": [],
   "source": [
    "rep = 10\n",
    "def sampling_tp (rep, n):\n",
    "    \n",
    "    test_prime(n)\n",
    "    "
   ]
  },
  {
   "cell_type": "code",
   "execution_count": 104,
   "metadata": {},
   "outputs": [],
   "source": [
    "no_prime_l = []\n",
    "for iterator in range(n):\n",
    "    no_prime_l.append(random.randint(1,100))\n",
    "    "
   ]
  },
  {
   "cell_type": "code",
   "execution_count": 105,
   "metadata": {},
   "outputs": [],
   "source": [
    "no_prime = np.array(no_prime_l)"
   ]
  },
  {
   "cell_type": "code",
   "execution_count": 106,
   "metadata": {},
   "outputs": [
    {
     "data": {
      "text/plain": [
       "52.0"
      ]
     },
     "execution_count": 106,
     "metadata": {},
     "output_type": "execute_result"
    }
   ],
   "source": [
    "no_prime.mean()"
   ]
  },
  {
   "cell_type": "code",
   "execution_count": 107,
   "metadata": {},
   "outputs": [
    {
     "data": {
      "text/plain": [
       "22.077137495608437"
      ]
     },
     "execution_count": 107,
     "metadata": {},
     "output_type": "execute_result"
    }
   ],
   "source": [
    "no_prime.std()"
   ]
  },
  {
   "cell_type": "code",
   "execution_count": null,
   "metadata": {},
   "outputs": [],
   "source": []
  },
  {
   "cell_type": "code",
   "execution_count": 108,
   "metadata": {},
   "outputs": [],
   "source": [
    "pop = np.array(pop_l) #Converting list to numpy array"
   ]
  },
  {
   "cell_type": "code",
   "execution_count": 109,
   "metadata": {},
   "outputs": [
    {
     "data": {
      "text/plain": [
       "44.875"
      ]
     },
     "execution_count": 109,
     "metadata": {},
     "output_type": "execute_result"
    }
   ],
   "source": [
    "pop.mean()"
   ]
  },
  {
   "cell_type": "code",
   "execution_count": 110,
   "metadata": {},
   "outputs": [
    {
     "data": {
      "text/plain": [
       "32.94934559289456"
      ]
     },
     "execution_count": 110,
     "metadata": {},
     "output_type": "execute_result"
    }
   ],
   "source": [
    "pop.std()"
   ]
  },
  {
   "cell_type": "code",
   "execution_count": 111,
   "metadata": {},
   "outputs": [],
   "source": [
    "hist_pop = np.histogram(pop) #returns a tuple index[0] = freq, index[1] = values"
   ]
  },
  {
   "cell_type": "code",
   "execution_count": 40,
   "metadata": {},
   "outputs": [
    {
     "data": {
      "text/plain": [
       "tuple"
      ]
     },
     "execution_count": 40,
     "metadata": {},
     "output_type": "execute_result"
    }
   ],
   "source": [
    "type(hist_pop)"
   ]
  },
  {
   "cell_type": "code",
   "execution_count": 41,
   "metadata": {
    "scrolled": true
   },
   "outputs": [
    {
     "data": {
      "text/plain": [
       "(array([242., 265., 260., 269., 250., 257., 264., 243., 221., 229.]),\n",
       " array([  0.,  10.,  20.,  30.,  40.,  50.,  60.,  70.,  80.,  90., 100.]),\n",
       " <a list of 10 Patch objects>)"
      ]
     },
     "execution_count": 41,
     "metadata": {},
     "output_type": "execute_result"
    },
    {
     "data": {
      "image/png": "[encoded data removed]",
      "text/plain": [
       "<Figure size 432x288 with 1 Axes>"
      ]
     },
     "metadata": {},
     "output_type": "display_data"
    }
   ],
   "source": [
    "plt.hist(pop_l)"
   ]
  },
  {
   "cell_type": "code",
   "execution_count": 42,
   "metadata": {},
   "outputs": [],
   "source": [
    "n_s = 100\n",
    "rselect = []\n",
    "for i in range(n_s):\n",
    "    rselect.append(random.randint(1,100))    "
   ]
  },
  {
   "cell_type": "code",
   "execution_count": 43,
   "metadata": {},
   "outputs": [],
   "source": [
    "sample_l = []\n",
    "for i in rselect:\n",
    "    sample_l.append(pop_l[i])\n",
    "    "
   ]
  },
  {
   "cell_type": "code",
   "execution_count": 44,
   "metadata": {},
   "outputs": [
    {
     "data": {
      "text/plain": [
       "(array([ 3.,  6.,  8., 11., 17., 11.,  7., 10., 21.,  6.]),\n",
       " array([  0.,  10.,  20.,  30.,  40.,  50.,  60.,  70.,  80.,  90., 100.]),\n",
       " <a list of 10 Patch objects>)"
      ]
     },
     "execution_count": 44,
     "metadata": {},
     "output_type": "execute_result"
    },
    {
     "data": {
      "image/png": "[encoded data removed]",
      "text/plain": [
       "<Figure size 432x288 with 1 Axes>"
      ]
     },
     "metadata": {},
     "output_type": "display_data"
    }
   ],
   "source": [
    "plt.hist(sample_l)"
   ]
  },
  {
   "cell_type": "code",
   "execution_count": 45,
   "metadata": {},
   "outputs": [],
   "source": [
    "sample = np.array(sample_l)"
   ]
  },
  {
   "cell_type": "code",
   "execution_count": 46,
   "metadata": {},
   "outputs": [
    {
     "data": {
      "text/plain": [
       "55.78"
      ]
     },
     "execution_count": 46,
     "metadata": {},
     "output_type": "execute_result"
    }
   ],
   "source": [
    "sample.mean()"
   ]
  },
  {
   "cell_type": "code",
   "execution_count": 47,
   "metadata": {},
   "outputs": [
    {
     "data": {
      "text/plain": [
       "25.72142297774367"
      ]
     },
     "execution_count": 47,
     "metadata": {},
     "output_type": "execute_result"
    }
   ],
   "source": [
    "sample.std()"
   ]
  },
  {
   "cell_type": "code",
   "execution_count": null,
   "metadata": {},
   "outputs": [],
   "source": []
  },
  {
   "cell_type": "code",
   "execution_count": 35,
   "metadata": {},
   "outputs": [
    {
     "data": {
      "text/plain": [
       "' \\npop_l = []\\nfor x in range(n):\\n    if (x%97==0):\\n        y = random.randint(1,97)\\n        pop_l.append(abs(y-89))\\n    if (x%89==0):\\n        y = random.randint(1,89)\\n        pop_l.append(abs(y-83))\\n    if (x%83==0):\\n        y = random.randint(1,83)\\n        pop_l.append(abs(y-79))\\n    if (x%79==0):\\n        y = random.randint(1,79)\\n        pop_l.append(abs(y-73))\\n    if (x%73==0):\\n        y = random.randint(1,73)\\n        pop_l.append(abs(y-71))\\n    if (x%71==0):\\n        y = random.randint(1,71)\\n        pop_l.append(abs(y-67))\\n    if (x%67==0):\\n        y = random.randint(1,67)\\n        pop_l.append(abs(y-59))\\n    if (x%59==0):\\n        y = random.randint(1,59)\\n        pop_l.append(abs(y-53))\\n    if (x%47==0):\\n        y = random.randint(1,47)\\n        pop_l.append(abs(y-43))\\n    if (x%43==0):\\n        y = random.randint(1,43)\\n        pop_l.append(abs(y-41))\\n    if (x%41==0):\\n        y = random.randint(1,41)\\n        pop_l.append(abs(y-37))\\n    else:        \\n        pop_l.append(random.randint(1,100))\\n'"
      ]
     },
     "execution_count": 35,
     "metadata": {},
     "output_type": "execute_result"
    }
   ],
   "source": [
    "#Create a test population (favourite number between 1-100)\n",
    "\"\"\" \n",
    "pop_l = []\n",
    "for x in range(n):\n",
    "    if (x%97==0):\n",
    "        y = random.randint(1,97)\n",
    "        pop_l.append(abs(y-89))\n",
    "    if (x%89==0):\n",
    "        y = random.randint(1,89)\n",
    "        pop_l.append(abs(y-83))\n",
    "    if (x%83==0):\n",
    "        y = random.randint(1,83)\n",
    "        pop_l.append(abs(y-79))\n",
    "    if (x%79==0):\n",
    "        y = random.randint(1,79)\n",
    "        pop_l.append(abs(y-73))\n",
    "    if (x%73==0):\n",
    "        y = random.randint(1,73)\n",
    "        pop_l.append(abs(y-71))\n",
    "    if (x%71==0):\n",
    "        y = random.randint(1,71)\n",
    "        pop_l.append(abs(y-67))\n",
    "    if (x%67==0):\n",
    "        y = random.randint(1,67)\n",
    "        pop_l.append(abs(y-59))\n",
    "    if (x%59==0):\n",
    "        y = random.randint(1,59)\n",
    "        pop_l.append(abs(y-53))\n",
    "    if (x%47==0):\n",
    "        y = random.randint(1,47)\n",
    "        pop_l.append(abs(y-43))\n",
    "    if (x%43==0):\n",
    "        y = random.randint(1,43)\n",
    "        pop_l.append(abs(y-41))\n",
    "    if (x%41==0):\n",
    "        y = random.randint(1,41)\n",
    "        pop_l.append(abs(y-37))\n",
    "    else:        \n",
    "        pop_l.append(random.randint(1,100))\n",
    "\"\"\" "
   ]
  },
  {
   "cell_type": "code",
   "execution_count": null,
   "metadata": {},
   "outputs": [],
   "source": []
  }
 ],
 "metadata": {
  "kernelspec": {
   "display_name": "Python 3",
   "language": "python",
   "name": "python3"
  },
  "language_info": {
   "codemirror_mode": {
    "name": "ipython",
    "version": 3
   },
   "file_extension": ".py",
   "mimetype": "text/x-python",
   "name": "python",
   "nbconvert_exporter": "python",
   "pygments_lexer": "ipython3",
   "version": "3.6.5"
  }
 },
 "nbformat": 4,
 "nbformat_minor": 2
}
